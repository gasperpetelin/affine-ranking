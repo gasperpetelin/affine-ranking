{
 "cells": [
  {
   "cell_type": "code",
   "execution_count": 1,
   "id": "570cd8e9-6b4f-4cb7-87a1-36926440a47a",
   "metadata": {},
   "outputs": [],
   "source": [
    "from joblib import Parallel, delayed\n",
    "import pandas as pd\n",
    "import glob\n",
    "import numpy as np\n",
    "import matplotlib.pyplot as plt"
   ]
  },
  {
   "cell_type": "code",
   "execution_count": 2,
   "id": "391e5ec3-bfb3-44f6-b5bb-e8f9567f4111",
   "metadata": {},
   "outputs": [],
   "source": [
    "files = glob.glob('runs/*.csv')"
   ]
  },
  {
   "cell_type": "code",
   "execution_count": 3,
   "id": "53c38cf7-c2c5-478f-b978-ddc0c4dae741",
   "metadata": {},
   "outputs": [],
   "source": [
    "dfs = Parallel(n_jobs=-1)(delayed(lambda file: pd.read_csv(file, index_col=False))(file=file) for file in files) "
   ]
  },
  {
   "cell_type": "code",
   "execution_count": 4,
   "id": "4cc4dcf6-27f2-43da-9132-0adb1f0850db",
   "metadata": {},
   "outputs": [],
   "source": [
    "df = pd.concat(dfs)"
   ]
  },
  {
   "cell_type": "code",
   "execution_count": 5,
   "id": "89fa047c-a435-4d2c-bedd-f3415836bf02",
   "metadata": {},
   "outputs": [
    {
     "data": {
      "text/html": [
       "<div>\n",
       "<style scoped>\n",
       "    .dataframe tbody tr th:only-of-type {\n",
       "        vertical-align: middle;\n",
       "    }\n",
       "\n",
       "    .dataframe tbody tr th {\n",
       "        vertical-align: top;\n",
       "    }\n",
       "\n",
       "    .dataframe thead th {\n",
       "        text-align: right;\n",
       "    }\n",
       "</style>\n",
       "<table border=\"1\" class=\"dataframe\">\n",
       "  <thead>\n",
       "    <tr style=\"text-align: right;\">\n",
       "      <th></th>\n",
       "      <th>GA</th>\n",
       "      <th>PSO</th>\n",
       "      <th>DE</th>\n",
       "      <th>CMAES</th>\n",
       "      <th>ES</th>\n",
       "      <th>algorithm_run</th>\n",
       "      <th>problem1</th>\n",
       "      <th>problem2</th>\n",
       "      <th>instance1</th>\n",
       "      <th>instance2</th>\n",
       "      <th>alpha</th>\n",
       "      <th>dim</th>\n",
       "      <th>optimum</th>\n",
       "    </tr>\n",
       "  </thead>\n",
       "  <tbody>\n",
       "    <tr>\n",
       "      <th>0</th>\n",
       "      <td>7.559904e-02</td>\n",
       "      <td>1.000000e-20</td>\n",
       "      <td>1.000000e-20</td>\n",
       "      <td>1.421085e-14</td>\n",
       "      <td>9.604912e-04</td>\n",
       "      <td>1</td>\n",
       "      <td>1</td>\n",
       "      <td>2</td>\n",
       "      <td>5</td>\n",
       "      <td>5</td>\n",
       "      <td>0.0</td>\n",
       "      <td>5</td>\n",
       "      <td>1.000000e-20</td>\n",
       "    </tr>\n",
       "    <tr>\n",
       "      <th>1</th>\n",
       "      <td>3.949642e-02</td>\n",
       "      <td>1.000000e-20</td>\n",
       "      <td>1.000000e-20</td>\n",
       "      <td>3.446340e-15</td>\n",
       "      <td>2.674908e-03</td>\n",
       "      <td>1</td>\n",
       "      <td>1</td>\n",
       "      <td>2</td>\n",
       "      <td>5</td>\n",
       "      <td>5</td>\n",
       "      <td>0.1</td>\n",
       "      <td>5</td>\n",
       "      <td>1.000000e-20</td>\n",
       "    </tr>\n",
       "    <tr>\n",
       "      <th>2</th>\n",
       "      <td>2.928538e-02</td>\n",
       "      <td>1.000000e-20</td>\n",
       "      <td>1.000000e-20</td>\n",
       "      <td>4.411316e-15</td>\n",
       "      <td>1.077512e-03</td>\n",
       "      <td>1</td>\n",
       "      <td>1</td>\n",
       "      <td>2</td>\n",
       "      <td>5</td>\n",
       "      <td>5</td>\n",
       "      <td>0.2</td>\n",
       "      <td>5</td>\n",
       "      <td>1.000000e-20</td>\n",
       "    </tr>\n",
       "    <tr>\n",
       "      <th>3</th>\n",
       "      <td>8.122012e-04</td>\n",
       "      <td>1.000000e-20</td>\n",
       "      <td>1.000000e-20</td>\n",
       "      <td>1.929266e-15</td>\n",
       "      <td>8.650983e-05</td>\n",
       "      <td>1</td>\n",
       "      <td>1</td>\n",
       "      <td>2</td>\n",
       "      <td>5</td>\n",
       "      <td>5</td>\n",
       "      <td>0.3</td>\n",
       "      <td>5</td>\n",
       "      <td>1.000000e-20</td>\n",
       "    </tr>\n",
       "    <tr>\n",
       "      <th>4</th>\n",
       "      <td>7.105923e-04</td>\n",
       "      <td>1.000000e-20</td>\n",
       "      <td>1.000000e-20</td>\n",
       "      <td>4.915550e-17</td>\n",
       "      <td>3.221554e-05</td>\n",
       "      <td>1</td>\n",
       "      <td>1</td>\n",
       "      <td>2</td>\n",
       "      <td>5</td>\n",
       "      <td>5</td>\n",
       "      <td>0.4</td>\n",
       "      <td>5</td>\n",
       "      <td>1.000000e-20</td>\n",
       "    </tr>\n",
       "    <tr>\n",
       "      <th>...</th>\n",
       "      <td>...</td>\n",
       "      <td>...</td>\n",
       "      <td>...</td>\n",
       "      <td>...</td>\n",
       "      <td>...</td>\n",
       "      <td>...</td>\n",
       "      <td>...</td>\n",
       "      <td>...</td>\n",
       "      <td>...</td>\n",
       "      <td>...</td>\n",
       "      <td>...</td>\n",
       "      <td>...</td>\n",
       "      <td>...</td>\n",
       "    </tr>\n",
       "    <tr>\n",
       "      <th>6</th>\n",
       "      <td>3.724298e-07</td>\n",
       "      <td>1.000000e-20</td>\n",
       "      <td>1.000000e-20</td>\n",
       "      <td>1.000000e-20</td>\n",
       "      <td>1.863236e-08</td>\n",
       "      <td>1</td>\n",
       "      <td>1</td>\n",
       "      <td>1</td>\n",
       "      <td>2</td>\n",
       "      <td>2</td>\n",
       "      <td>0.6</td>\n",
       "      <td>5</td>\n",
       "      <td>1.000000e-20</td>\n",
       "    </tr>\n",
       "    <tr>\n",
       "      <th>7</th>\n",
       "      <td>2.612270e-06</td>\n",
       "      <td>1.000000e-20</td>\n",
       "      <td>1.000000e-20</td>\n",
       "      <td>5.684342e-14</td>\n",
       "      <td>1.117832e-08</td>\n",
       "      <td>1</td>\n",
       "      <td>1</td>\n",
       "      <td>1</td>\n",
       "      <td>2</td>\n",
       "      <td>2</td>\n",
       "      <td>0.7</td>\n",
       "      <td>5</td>\n",
       "      <td>1.000000e-20</td>\n",
       "    </tr>\n",
       "    <tr>\n",
       "      <th>8</th>\n",
       "      <td>7.169239e-06</td>\n",
       "      <td>1.000000e-20</td>\n",
       "      <td>1.000000e-20</td>\n",
       "      <td>1.000000e-20</td>\n",
       "      <td>8.268842e-09</td>\n",
       "      <td>1</td>\n",
       "      <td>1</td>\n",
       "      <td>1</td>\n",
       "      <td>2</td>\n",
       "      <td>2</td>\n",
       "      <td>0.8</td>\n",
       "      <td>5</td>\n",
       "      <td>1.000000e-20</td>\n",
       "    </tr>\n",
       "    <tr>\n",
       "      <th>9</th>\n",
       "      <td>1.530108e-06</td>\n",
       "      <td>1.000000e-20</td>\n",
       "      <td>1.000000e-20</td>\n",
       "      <td>1.000000e-20</td>\n",
       "      <td>2.004265e-08</td>\n",
       "      <td>1</td>\n",
       "      <td>1</td>\n",
       "      <td>1</td>\n",
       "      <td>2</td>\n",
       "      <td>2</td>\n",
       "      <td>0.9</td>\n",
       "      <td>5</td>\n",
       "      <td>1.000000e-20</td>\n",
       "    </tr>\n",
       "    <tr>\n",
       "      <th>10</th>\n",
       "      <td>1.633837e-07</td>\n",
       "      <td>1.000000e-20</td>\n",
       "      <td>1.000000e-20</td>\n",
       "      <td>1.000000e-20</td>\n",
       "      <td>3.060379e-07</td>\n",
       "      <td>1</td>\n",
       "      <td>1</td>\n",
       "      <td>1</td>\n",
       "      <td>2</td>\n",
       "      <td>2</td>\n",
       "      <td>1.0</td>\n",
       "      <td>5</td>\n",
       "      <td>1.000000e-20</td>\n",
       "    </tr>\n",
       "  </tbody>\n",
       "</table>\n",
       "<p>132 rows × 13 columns</p>\n",
       "</div>"
      ],
      "text/plain": [
       "              GA           PSO            DE         CMAES            ES  \\\n",
       "0   7.559904e-02  1.000000e-20  1.000000e-20  1.421085e-14  9.604912e-04   \n",
       "1   3.949642e-02  1.000000e-20  1.000000e-20  3.446340e-15  2.674908e-03   \n",
       "2   2.928538e-02  1.000000e-20  1.000000e-20  4.411316e-15  1.077512e-03   \n",
       "3   8.122012e-04  1.000000e-20  1.000000e-20  1.929266e-15  8.650983e-05   \n",
       "4   7.105923e-04  1.000000e-20  1.000000e-20  4.915550e-17  3.221554e-05   \n",
       "..           ...           ...           ...           ...           ...   \n",
       "6   3.724298e-07  1.000000e-20  1.000000e-20  1.000000e-20  1.863236e-08   \n",
       "7   2.612270e-06  1.000000e-20  1.000000e-20  5.684342e-14  1.117832e-08   \n",
       "8   7.169239e-06  1.000000e-20  1.000000e-20  1.000000e-20  8.268842e-09   \n",
       "9   1.530108e-06  1.000000e-20  1.000000e-20  1.000000e-20  2.004265e-08   \n",
       "10  1.633837e-07  1.000000e-20  1.000000e-20  1.000000e-20  3.060379e-07   \n",
       "\n",
       "    algorithm_run  problem1  problem2  instance1  instance2  alpha  dim  \\\n",
       "0               1         1         2          5          5    0.0    5   \n",
       "1               1         1         2          5          5    0.1    5   \n",
       "2               1         1         2          5          5    0.2    5   \n",
       "3               1         1         2          5          5    0.3    5   \n",
       "4               1         1         2          5          5    0.4    5   \n",
       "..            ...       ...       ...        ...        ...    ...  ...   \n",
       "6               1         1         1          2          2    0.6    5   \n",
       "7               1         1         1          2          2    0.7    5   \n",
       "8               1         1         1          2          2    0.8    5   \n",
       "9               1         1         1          2          2    0.9    5   \n",
       "10              1         1         1          2          2    1.0    5   \n",
       "\n",
       "         optimum  \n",
       "0   1.000000e-20  \n",
       "1   1.000000e-20  \n",
       "2   1.000000e-20  \n",
       "3   1.000000e-20  \n",
       "4   1.000000e-20  \n",
       "..           ...  \n",
       "6   1.000000e-20  \n",
       "7   1.000000e-20  \n",
       "8   1.000000e-20  \n",
       "9   1.000000e-20  \n",
       "10  1.000000e-20  \n",
       "\n",
       "[132 rows x 13 columns]"
      ]
     },
     "execution_count": 5,
     "metadata": {},
     "output_type": "execute_result"
    }
   ],
   "source": [
    "df"
   ]
  },
  {
   "cell_type": "code",
   "execution_count": 10,
   "id": "82f9a4dd-c4dc-416c-b0dd-a83e1da264a1",
   "metadata": {},
   "outputs": [
    {
     "data": {
      "text/plain": [
       "0.010632743490095428"
      ]
     },
     "execution_count": 10,
     "metadata": {},
     "output_type": "execute_result"
    }
   ],
   "source": [
    "(df['GA'] - df['optimum']).mean()"
   ]
  },
  {
   "cell_type": "code",
   "execution_count": 15,
   "id": "98fd5477-7b26-4891-8f63-e42000fc2d0d",
   "metadata": {},
   "outputs": [
    {
     "data": {
      "text/plain": [
       "0.1011364926279947"
      ]
     },
     "execution_count": 15,
     "metadata": {},
     "output_type": "execute_result"
    }
   ],
   "source": [
    "(df['CMAES'] - df['optimum']).mean()"
   ]
  },
  {
   "cell_type": "code",
   "execution_count": null,
   "id": "c99a4018-13ff-4a6c-8857-4033462761f5",
   "metadata": {},
   "outputs": [],
   "source": []
  },
  {
   "cell_type": "code",
   "execution_count": null,
   "id": "7a9f5c00-f1fc-4453-906f-03bfa0a02436",
   "metadata": {},
   "outputs": [],
   "source": []
  },
  {
   "cell_type": "code",
   "execution_count": 20,
   "id": "9f71356e-ae20-483f-9b7d-0ffc00999da9",
   "metadata": {},
   "outputs": [
    {
     "data": {
      "text/plain": [
       "'2023-05-10 09:41:25.668934'"
      ]
     },
     "execution_count": 20,
     "metadata": {},
     "output_type": "execute_result"
    }
   ],
   "source": [
    "from datetime import datetime\n",
    "str(datetime.now())"
   ]
  },
  {
   "cell_type": "code",
   "execution_count": 21,
   "id": "c8978582-ca96-4b65-8ee1-0b3d4f85a08d",
   "metadata": {},
   "outputs": [
    {
     "data": {
      "text/html": [
       "<div>\n",
       "<style scoped>\n",
       "    .dataframe tbody tr th:only-of-type {\n",
       "        vertical-align: middle;\n",
       "    }\n",
       "\n",
       "    .dataframe tbody tr th {\n",
       "        vertical-align: top;\n",
       "    }\n",
       "\n",
       "    .dataframe thead th {\n",
       "        text-align: right;\n",
       "    }\n",
       "</style>\n",
       "<table border=\"1\" class=\"dataframe\">\n",
       "  <thead>\n",
       "    <tr style=\"text-align: right;\">\n",
       "      <th></th>\n",
       "      <th>a</th>\n",
       "      <th>b</th>\n",
       "    </tr>\n",
       "  </thead>\n",
       "  <tbody>\n",
       "    <tr>\n",
       "      <th>0</th>\n",
       "      <td>2</td>\n",
       "      <td>12</td>\n",
       "    </tr>\n",
       "    <tr>\n",
       "      <th>1</th>\n",
       "      <td>2</td>\n",
       "      <td>12</td>\n",
       "    </tr>\n",
       "  </tbody>\n",
       "</table>\n",
       "</div>"
      ],
      "text/plain": [
       "   a   b\n",
       "0  2  12\n",
       "1  2  12"
      ]
     },
     "execution_count": 21,
     "metadata": {},
     "output_type": "execute_result"
    }
   ],
   "source": [
    "a = {'a': 2, 'b':12}\n",
    "b = {'a': 2, 'b':12}\n",
    "pd.DataFrame([a, b])"
   ]
  }
 ],
 "metadata": {
  "kernelspec": {
   "display_name": "Base",
   "language": "python",
   "name": "base"
  },
  "language_info": {
   "codemirror_mode": {
    "name": "ipython",
    "version": 3
   },
   "file_extension": ".py",
   "mimetype": "text/x-python",
   "name": "python",
   "nbconvert_exporter": "python",
   "pygments_lexer": "ipython3",
   "version": "3.11.3"
  }
 },
 "nbformat": 4,
 "nbformat_minor": 5
}
