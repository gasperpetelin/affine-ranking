{
 "cells": [
  {
   "cell_type": "code",
   "execution_count": 5,
   "id": "1c5132fa-5cce-4798-8c62-ced9f778b4c7",
   "metadata": {},
   "outputs": [],
   "source": [
    "import time\n",
    "\n",
    "import numpy as np\n",
    "\n",
    "%matplotlib inline\n",
    "\n",
    "import matplotlib\n",
    "import numpy as np\n",
    "import matplotlib.pyplot as plt\n",
    "\n",
    "from lightfm import LightFM\n",
    "from lightfm.datasets import fetch_movielens\n",
    "from lightfm.evaluation import auc_score\n",
    "\n",
    "movielens = fetch_movielens()\n",
    "\n",
    "train, test = movielens['train'], movielens['test']"
   ]
  },
  {
   "cell_type": "code",
   "execution_count": 6,
   "id": "ed787222-a9c8-4f0b-9e08-cde9fe57ab82",
   "metadata": {},
   "outputs": [
    {
     "data": {
      "text/plain": [
       "<943x1682 sparse matrix of type '<class 'numpy.int32'>'\n",
       "\twith 90570 stored elements in COOrdinate format>"
      ]
     },
     "execution_count": 6,
     "metadata": {},
     "output_type": "execute_result"
    }
   ],
   "source": [
    "train"
   ]
  },
  {
   "cell_type": "code",
   "execution_count": null,
   "id": "474ddc30-afd4-40f1-ac50-93c5429223e6",
   "metadata": {},
   "outputs": [],
   "source": []
  },
  {
   "cell_type": "code",
   "execution_count": 7,
   "id": "ab74afa7-8d92-410c-a9b5-8fcd8b95e803",
   "metadata": {},
   "outputs": [],
   "source": [
    "alpha = 1e-05\n",
    "epochs = 70\n",
    "num_components = 32\n",
    "\n",
    "warp_model = LightFM(no_components=num_components,\n",
    "                    loss='warp',\n",
    "                    learning_schedule='adagrad',\n",
    "                    max_sampled=100,\n",
    "                    user_alpha=alpha,\n",
    "                    item_alpha=alpha)\n",
    "\n",
    "bpr_model = LightFM(no_components=num_components,\n",
    "                    loss='bpr',\n",
    "                    learning_schedule='adagrad',\n",
    "                    user_alpha=alpha,\n",
    "                    item_alpha=alpha)\n",
    "\n",
    "warp_duration = []\n",
    "bpr_duration = []\n",
    "warp_auc = []\n",
    "bpr_auc = []\n",
    "\n",
    "for epoch in range(epochs):\n",
    "    start = time.time()\n",
    "    warp_model.fit_partial(train, epochs=1)\n",
    "    warp_duration.append(time.time() - start)\n",
    "    warp_auc.append(auc_score(warp_model, test, train_interactions=train).mean())\n",
    "\n",
    "for epoch in range(epochs):\n",
    "    start = time.time()\n",
    "    bpr_model.fit_partial(train, epochs=1)\n",
    "    bpr_duration.append(time.time() - start)\n",
    "    bpr_auc.append(auc_score(bpr_model, test, train_interactions=train).mean())"
   ]
  },
  {
   "cell_type": "code",
   "execution_count": null,
   "id": "3c177655-effc-4e19-947e-a35710bfdc56",
   "metadata": {},
   "outputs": [],
   "source": [
    "x = np.arange(epochs)\n",
    "plt.plot(x, np.array(warp_auc))\n",
    "plt.plot(x, np.array(bpr_auc))\n",
    "plt.legend(['WARP AUC', 'BPR AUC'], loc='upper right')\n",
    "plt.show()"
   ]
  },
  {
   "cell_type": "code",
   "execution_count": 2,
   "id": "59821370-4ef2-47a7-b3dd-13e54f67dd2b",
   "metadata": {},
   "outputs": [
    {
     "name": "stdout",
     "output_type": "stream",
     "text": [
      "Collecting lightfm\n",
      "  Downloading lightfm-1.17.tar.gz (316 kB)\n",
      "\u001b[2K     \u001b[90m━━━━━━━━━━━━━━━━━━━━━━━━━━━━━━━━━━━━━━━\u001b[0m \u001b[32m316.4/316.4 kB\u001b[0m \u001b[31m4.9 MB/s\u001b[0m eta \u001b[36m0:00:00\u001b[0ma \u001b[36m0:00:01\u001b[0m\n",
      "\u001b[?25h  Preparing metadata (setup.py) ... \u001b[?25ldone\n",
      "\u001b[?25hRequirement already satisfied: numpy in /opt/conda/envs/Base/lib/python3.11/site-packages (from lightfm) (1.23.5)\n",
      "Requirement already satisfied: scipy>=0.17.0 in /opt/conda/envs/Base/lib/python3.11/site-packages (from lightfm) (1.9.3)\n",
      "Requirement already satisfied: requests in /opt/conda/envs/Base/lib/python3.11/site-packages (from lightfm) (2.28.2)\n",
      "Requirement already satisfied: scikit-learn in /opt/conda/envs/Base/lib/python3.11/site-packages (from lightfm) (1.1.3)\n",
      "Requirement already satisfied: charset-normalizer<4,>=2 in /opt/conda/envs/Base/lib/python3.11/site-packages (from requests->lightfm) (3.1.0)\n",
      "Requirement already satisfied: idna<4,>=2.5 in /opt/conda/envs/Base/lib/python3.11/site-packages (from requests->lightfm) (3.4)\n",
      "Requirement already satisfied: urllib3<1.27,>=1.21.1 in /opt/conda/envs/Base/lib/python3.11/site-packages (from requests->lightfm) (1.26.15)\n",
      "Requirement already satisfied: certifi>=2017.4.17 in /opt/conda/envs/Base/lib/python3.11/site-packages (from requests->lightfm) (2022.12.7)\n",
      "Requirement already satisfied: joblib>=1.0.0 in /opt/conda/envs/Base/lib/python3.11/site-packages (from scikit-learn->lightfm) (1.2.0)\n",
      "Requirement already satisfied: threadpoolctl>=2.0.0 in /opt/conda/envs/Base/lib/python3.11/site-packages (from scikit-learn->lightfm) (3.1.0)\n",
      "Building wheels for collected packages: lightfm\n",
      "  Building wheel for lightfm (setup.py) ... \u001b[?25ldone\n",
      "\u001b[?25h  Created wheel for lightfm: filename=lightfm-1.17-cp311-cp311-linux_x86_64.whl size=449492 sha256=90b850e7277729f9f24c6bd4e023f7466be99b438c92f622be4bf6ca51124431\n",
      "  Stored in directory: /home/jovyan/.cache/pip/wheels/b9/0d/8a/0729d2e6e3ca2a898ba55201f905da7db3f838a33df5b3fcdd\n",
      "Successfully built lightfm\n",
      "Installing collected packages: lightfm\n",
      "Successfully installed lightfm-1.17\n"
     ]
    }
   ],
   "source": [
    "!pip install lightfm"
   ]
  }
 ],
 "metadata": {
  "kernelspec": {
   "display_name": "Base",
   "language": "python",
   "name": "base"
  },
  "language_info": {
   "codemirror_mode": {
    "name": "ipython",
    "version": 3
   },
   "file_extension": ".py",
   "mimetype": "text/x-python",
   "name": "python",
   "nbconvert_exporter": "python",
   "pygments_lexer": "ipython3",
   "version": "3.11.3"
  }
 },
 "nbformat": 4,
 "nbformat_minor": 5
}
