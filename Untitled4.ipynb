{
 "cells": [
  {
   "cell_type": "code",
   "execution_count": 1,
   "id": "69cabe74-4116-4295-a322-4b82574231ef",
   "metadata": {},
   "outputs": [],
   "source": [
    "import pandas as pd\n",
    "import numpy as np\n",
    "import os"
   ]
  },
  {
   "cell_type": "code",
   "execution_count": null,
   "id": "9cda721e-f42b-4c9c-a160-2dc81fe87845",
   "metadata": {},
   "outputs": [],
   "source": []
  },
  {
   "cell_type": "code",
   "execution_count": 2,
   "id": "e8d0fc4d-0614-4acd-8aa5-2cda69bee4c1",
   "metadata": {},
   "outputs": [],
   "source": [
    "X = np.random.rand(1000, 1000)"
   ]
  },
  {
   "cell_type": "code",
   "execution_count": 3,
   "id": "4eea9b58-25e7-46be-b58b-9dc9ff8d759e",
   "metadata": {},
   "outputs": [],
   "source": [
    "psize = []\n",
    "psize2 = []\n",
    "csize = []"
   ]
  },
  {
   "cell_type": "code",
   "execution_count": 4,
   "id": "f14efd26-f41f-4620-92e3-52bd03afd2fe",
   "metadata": {},
   "outputs": [
    {
     "name": "stdout",
     "output_type": "stream",
     "text": [
      "1\n",
      "2\n",
      "3\n",
      "4\n",
      "5\n",
      "6\n",
      "7\n",
      "8\n",
      "9\n",
      "10\n",
      "11\n",
      "12\n",
      "13\n",
      "14\n",
      "15\n",
      "16\n",
      "17\n",
      "18\n",
      "19\n"
     ]
    }
   ],
   "source": [
    "for i in range(1, 20):\n",
    "    print(i)\n",
    "    \n",
    "    vx = np.vstack(i*[X])\n",
    "    vx[:, 0] = list(range(i*1000))\n",
    "    df = pd.DataFrame(vx, columns = [str(x) for x in range(1000)])\n",
    "    df.to_csv('123.csv')\n",
    "    df.to_parquet('123.prq')\n",
    "    \n",
    "    csize.append(os.stat('123.csv').st_size)\n",
    "    psize.append(os.stat('123.prq').st_size)\n",
    "    \n",
    "    vx = np.random.rand(i*1000, 1000)\n",
    "    vx[:, 0] = list(range(i*1000))\n",
    "    df = pd.DataFrame(vx, columns = [str(x) for x in range(1000)])\n",
    "    df.to_parquet('1235.prq')\n",
    "    \n",
    "    psize2.append(os.stat('1235.prq').st_size)"
   ]
  },
  {
   "cell_type": "code",
   "execution_count": 8,
   "id": "24d9a257-ba37-406b-a30f-2872f705af76",
   "metadata": {},
   "outputs": [
    {
     "data": {
      "image/png": "[encoded data removed]",
      "text/plain": [
       "<Figure size 640x480 with 1 Axes>"
      ]
     },
     "metadata": {},
     "output_type": "display_data"
    }
   ],
   "source": [
    "import matplotlib.pyplot as plt\n",
    "\n",
    "plt.plot(csize)\n",
    "plt.plot(psize)\n",
    "plt.plot(psize2)\n",
    "plt.grid()"
   ]
  },
  {
   "cell_type": "code",
   "execution_count": null,
   "id": "a45ff2fd-7b02-452e-ac7d-c9f9f44009cb",
   "metadata": {},
   "outputs": [],
   "source": []
  },
  {
   "cell_type": "code",
   "execution_count": null,
   "id": "e58acc86-0d2f-47cc-a453-ee38ced2d1a0",
   "metadata": {},
   "outputs": [],
   "source": []
  },
  {
   "cell_type": "code",
   "execution_count": 6,
   "id": "0fa9f1de-81df-415a-8696-79808b5e5f7b",
   "metadata": {},
   "outputs": [],
   "source": [
    "#!pip install fastparquet"
   ]
  },
  {
   "cell_type": "code",
   "execution_count": null,
   "id": "3329ab3f-7de7-46ec-a8d9-ea297b9b5398",
   "metadata": {},
   "outputs": [],
   "source": []
  },
  {
   "cell_type": "code",
   "execution_count": 7,
   "id": "191370bb-77b9-4d18-bd00-417ff205eb19",
   "metadata": {},
   "outputs": [],
   "source": [
    "#file_name = \"123.csv\"\n",
    "#file_stats = os.stat(file_name)\n",
    "#print(file_stats)\n",
    "#print(f'File Size in Bytes is {file_stats.st_size}')"
   ]
  },
  {
   "cell_type": "code",
   "execution_count": null,
   "id": "97a99226-e4ac-4259-8f5c-91f5d796c122",
   "metadata": {},
   "outputs": [],
   "source": []
  },
  {
   "cell_type": "code",
   "execution_count": 10,
   "id": "e26e7887-da08-4da9-90c8-4606ccf44141",
   "metadata": {},
   "outputs": [
    {
     "data": {
      "text/plain": [
       "array([[5, 2, 3, 1, 4],\n",
       "       [5, 3, 2, 1, 4],\n",
       "       [5, 2, 3, 1, 4]])"
      ]
     },
     "execution_count": 10,
     "metadata": {},
     "output_type": "execute_result"
    }
   ],
   "source": [
    "X = np.array([[5, 2, 3, 1, 4], [5, 3, 2, 1, 4], [5, 2, 3, 1, 4]])\n",
    "X"
   ]
  },
  {
   "cell_type": "code",
   "execution_count": 11,
   "id": "0f2a0fb5-755f-4824-8160-d194795923e3",
   "metadata": {},
   "outputs": [
    {
     "data": {
      "text/plain": [
       "array([5.        , 2.33333333, 2.66666667, 1.        , 4.        ])"
      ]
     },
     "execution_count": 11,
     "metadata": {},
     "output_type": "execute_result"
    }
   ],
   "source": [
    "X.mean(axis=0)"
   ]
  },
  {
   "cell_type": "code",
   "execution_count": 12,
   "id": "8e12f015-1b04-4f6b-bf81-65df04636f8b",
   "metadata": {},
   "outputs": [
    {
     "data": {
      "text/plain": [
       "15.0"
      ]
     },
     "execution_count": 12,
     "metadata": {},
     "output_type": "execute_result"
    }
   ],
   "source": [
    "np.array([4.8, 2.63, 2.37, 1.1, 4.1]).sum()"
   ]
  }
 ],
 "metadata": {
  "kernelspec": {
   "display_name": "Base",
   "language": "python",
   "name": "base"
  },
  "language_info": {
   "codemirror_mode": {
    "name": "ipython",
    "version": 3
   },
   "file_extension": ".py",
   "mimetype": "text/x-python",
   "name": "python",
   "nbconvert_exporter": "python",
   "pygments_lexer": "ipython3",
   "version": "3.11.3"
  }
 },
 "nbformat": 4,
 "nbformat_minor": 5
}
