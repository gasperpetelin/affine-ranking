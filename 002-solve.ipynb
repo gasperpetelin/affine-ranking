{
 "cells": [
  {
   "cell_type": "code",
   "execution_count": 1,
   "id": "badc610e-942d-4822-a517-4dc36001718d",
   "metadata": {},
   "outputs": [],
   "source": [
    "from pymoo.algorithms.soo.nonconvex.de import DE\n",
    "from pymoo.problems import get_problem\n",
    "from pymoo.optimize import minimize\n",
    "\n",
    "from utils import *\n",
    "import pandas as pd\n",
    "import itertools\n",
    "from tqdm import tqdm"
   ]
  },
  {
   "cell_type": "code",
   "execution_count": 2,
   "id": "1790f83a-c885-45de-9fd4-3b6f7ddd4def",
   "metadata": {},
   "outputs": [
    {
     "name": "stderr",
     "output_type": "stream",
     "text": [
      "  0%|          | 0/4 [00:00<?, ?it/s]"
     ]
    },
    {
     "name": "stdout",
     "output_type": "stream",
     "text": [
      "1 1\n"
     ]
    },
    {
     "name": "stderr",
     "output_type": "stream",
     "text": [
      " 25%|██▌       | 1/4 [00:16<00:50, 16.86s/it]"
     ]
    },
    {
     "name": "stdout",
     "output_type": "stream",
     "text": [
      "1 2\n"
     ]
    },
    {
     "name": "stderr",
     "output_type": "stream",
     "text": [
      " 50%|█████     | 2/4 [00:33<00:33, 16.53s/it]"
     ]
    },
    {
     "name": "stdout",
     "output_type": "stream",
     "text": [
      "2 1\n"
     ]
    },
    {
     "name": "stderr",
     "output_type": "stream",
     "text": [
      " 75%|███████▌  | 3/4 [00:49<00:16, 16.44s/it]"
     ]
    },
    {
     "name": "stdout",
     "output_type": "stream",
     "text": [
      "2 2\n"
     ]
    },
    {
     "name": "stderr",
     "output_type": "stream",
     "text": [
      "100%|██████████| 4/4 [01:06<00:00, 16.51s/it]\n"
     ]
    }
   ],
   "source": [
    "dim = 5\n",
    "run = 1\n",
    "instance_id = 1\n",
    "n_eval=2000\n",
    "\n",
    "dfs = []\n",
    "problems_list = list(range(1, 3))\n",
    "for problem_id1, problem_id2 in tqdm(list(itertools.product(problems_list, problems_list))):\n",
    "    \n",
    "    print(problem_id1, problem_id2)\n",
    "    problem1 = get_problem(f\"bbob-f{problem_id1}-{instance_id}\", n_var=dim)\n",
    "    problem2 = get_problem(f\"bbob-f{problem_id2}-{instance_id}\", n_var=dim)\n",
    "    \n",
    "    mix = CombinedProblem(problem1, problem2, 0.2)\n",
    "    \n",
    "    data = run_algorithms(mix, n_runs=2, n_eval=n_eval)\n",
    "    pdf = pd.DataFrame(data)\n",
    "\n",
    "    pdf['best'] = 0\n",
    "    pdf['problem1'] = problem_id1\n",
    "    pdf['problem2'] = problem_id2\n",
    "    pdf['instance'] = instance_id\n",
    "    pdf['dim'] = mix.n_var\n",
    "    pdf['algorithm_run'] = run\n",
    "    pdf['n_eval'] = f'{n_eval}D'\n",
    "    \n",
    "    dfs.append(pdf)"
   ]
  },
  {
   "cell_type": "code",
   "execution_count": 3,
   "id": "19c14f38-0457-4d26-8b0f-2613d9dbe9a8",
   "metadata": {},
   "outputs": [
    {
     "data": {
      "text/html": [
       "<div>\n",
       "<style scoped>\n",
       "    .dataframe tbody tr th:only-of-type {\n",
       "        vertical-align: middle;\n",
       "    }\n",
       "\n",
       "    .dataframe tbody tr th {\n",
       "        vertical-align: top;\n",
       "    }\n",
       "\n",
       "    .dataframe thead th {\n",
       "        text-align: right;\n",
       "    }\n",
       "</style>\n",
       "<table border=\"1\" class=\"dataframe\">\n",
       "  <thead>\n",
       "    <tr style=\"text-align: right;\">\n",
       "      <th></th>\n",
       "      <th>GA</th>\n",
       "      <th>PSO</th>\n",
       "      <th>DE</th>\n",
       "      <th>CMAES</th>\n",
       "      <th>ES</th>\n",
       "      <th>algorithm_run</th>\n",
       "      <th>best</th>\n",
       "      <th>problem1</th>\n",
       "      <th>problem2</th>\n",
       "      <th>instance</th>\n",
       "      <th>dim</th>\n",
       "      <th>n_eval</th>\n",
       "    </tr>\n",
       "  </thead>\n",
       "  <tbody>\n",
       "    <tr>\n",
       "      <th>0</th>\n",
       "      <td>0.000011</td>\n",
       "      <td>1.000000e-20</td>\n",
       "      <td>1.000000e-20</td>\n",
       "      <td>1.000000e-20</td>\n",
       "      <td>9.854617e-09</td>\n",
       "      <td>1</td>\n",
       "      <td>0</td>\n",
       "      <td>1</td>\n",
       "      <td>1</td>\n",
       "      <td>1</td>\n",
       "      <td>5</td>\n",
       "      <td>2000D</td>\n",
       "    </tr>\n",
       "    <tr>\n",
       "      <th>1</th>\n",
       "      <td>0.000003</td>\n",
       "      <td>1.000000e-20</td>\n",
       "      <td>1.000000e-20</td>\n",
       "      <td>1.000000e-20</td>\n",
       "      <td>3.460939e-08</td>\n",
       "      <td>1</td>\n",
       "      <td>0</td>\n",
       "      <td>1</td>\n",
       "      <td>1</td>\n",
       "      <td>1</td>\n",
       "      <td>5</td>\n",
       "      <td>2000D</td>\n",
       "    </tr>\n",
       "    <tr>\n",
       "      <th>0</th>\n",
       "      <td>0.027620</td>\n",
       "      <td>1.000000e-20</td>\n",
       "      <td>1.000000e-20</td>\n",
       "      <td>2.533636e-15</td>\n",
       "      <td>9.911958e-05</td>\n",
       "      <td>1</td>\n",
       "      <td>0</td>\n",
       "      <td>1</td>\n",
       "      <td>2</td>\n",
       "      <td>1</td>\n",
       "      <td>5</td>\n",
       "      <td>2000D</td>\n",
       "    </tr>\n",
       "    <tr>\n",
       "      <th>1</th>\n",
       "      <td>0.003836</td>\n",
       "      <td>1.000000e-20</td>\n",
       "      <td>1.000000e-20</td>\n",
       "      <td>1.455192e-15</td>\n",
       "      <td>2.364108e-03</td>\n",
       "      <td>1</td>\n",
       "      <td>0</td>\n",
       "      <td>1</td>\n",
       "      <td>2</td>\n",
       "      <td>1</td>\n",
       "      <td>5</td>\n",
       "      <td>2000D</td>\n",
       "    </tr>\n",
       "    <tr>\n",
       "      <th>0</th>\n",
       "      <td>0.000023</td>\n",
       "      <td>1.000000e-20</td>\n",
       "      <td>1.000000e-20</td>\n",
       "      <td>7.018033e-19</td>\n",
       "      <td>4.334481e-07</td>\n",
       "      <td>1</td>\n",
       "      <td>0</td>\n",
       "      <td>2</td>\n",
       "      <td>1</td>\n",
       "      <td>1</td>\n",
       "      <td>5</td>\n",
       "      <td>2000D</td>\n",
       "    </tr>\n",
       "    <tr>\n",
       "      <th>1</th>\n",
       "      <td>0.000005</td>\n",
       "      <td>1.000000e-20</td>\n",
       "      <td>1.000000e-20</td>\n",
       "      <td>1.056169e-18</td>\n",
       "      <td>1.391399e-06</td>\n",
       "      <td>1</td>\n",
       "      <td>0</td>\n",
       "      <td>2</td>\n",
       "      <td>1</td>\n",
       "      <td>1</td>\n",
       "      <td>5</td>\n",
       "      <td>2000D</td>\n",
       "    </tr>\n",
       "    <tr>\n",
       "      <th>0</th>\n",
       "      <td>0.003404</td>\n",
       "      <td>1.000000e-20</td>\n",
       "      <td>1.000000e-20</td>\n",
       "      <td>1.000000e-20</td>\n",
       "      <td>7.664695e-04</td>\n",
       "      <td>1</td>\n",
       "      <td>0</td>\n",
       "      <td>2</td>\n",
       "      <td>2</td>\n",
       "      <td>1</td>\n",
       "      <td>5</td>\n",
       "      <td>2000D</td>\n",
       "    </tr>\n",
       "    <tr>\n",
       "      <th>1</th>\n",
       "      <td>0.011884</td>\n",
       "      <td>1.000000e-20</td>\n",
       "      <td>1.000000e-20</td>\n",
       "      <td>1.000000e-20</td>\n",
       "      <td>3.834121e-04</td>\n",
       "      <td>1</td>\n",
       "      <td>0</td>\n",
       "      <td>2</td>\n",
       "      <td>2</td>\n",
       "      <td>1</td>\n",
       "      <td>5</td>\n",
       "      <td>2000D</td>\n",
       "    </tr>\n",
       "  </tbody>\n",
       "</table>\n",
       "</div>"
      ],
      "text/plain": [
       "         GA           PSO            DE         CMAES            ES  \\\n",
       "0  0.000011  1.000000e-20  1.000000e-20  1.000000e-20  9.854617e-09   \n",
       "1  0.000003  1.000000e-20  1.000000e-20  1.000000e-20  3.460939e-08   \n",
       "0  0.027620  1.000000e-20  1.000000e-20  2.533636e-15  9.911958e-05   \n",
       "1  0.003836  1.000000e-20  1.000000e-20  1.455192e-15  2.364108e-03   \n",
       "0  0.000023  1.000000e-20  1.000000e-20  7.018033e-19  4.334481e-07   \n",
       "1  0.000005  1.000000e-20  1.000000e-20  1.056169e-18  1.391399e-06   \n",
       "0  0.003404  1.000000e-20  1.000000e-20  1.000000e-20  7.664695e-04   \n",
       "1  0.011884  1.000000e-20  1.000000e-20  1.000000e-20  3.834121e-04   \n",
       "\n",
       "   algorithm_run  best  problem1  problem2  instance  dim n_eval  \n",
       "0              1     0         1         1         1    5  2000D  \n",
       "1              1     0         1         1         1    5  2000D  \n",
       "0              1     0         1         2         1    5  2000D  \n",
       "1              1     0         1         2         1    5  2000D  \n",
       "0              1     0         2         1         1    5  2000D  \n",
       "1              1     0         2         1         1    5  2000D  \n",
       "0              1     0         2         2         1    5  2000D  \n",
       "1              1     0         2         2         1    5  2000D  "
      ]
     },
     "execution_count": 3,
     "metadata": {},
     "output_type": "execute_result"
    }
   ],
   "source": [
    "df = pd.concat(dfs)\n",
    "df"
   ]
  },
  {
   "cell_type": "code",
   "execution_count": 4,
   "id": "35799c16-2149-4877-92df-768d3d491b46",
   "metadata": {},
   "outputs": [
    {
     "ename": "NameError",
     "evalue": "name 'dgf' is not defined",
     "output_type": "error",
     "traceback": [
      "\u001b[0;31m---------------------------------------------------------------------------\u001b[0m",
      "\u001b[0;31mNameError\u001b[0m                                 Traceback (most recent call last)",
      "Cell \u001b[0;32mIn[4], line 1\u001b[0m\n\u001b[0;32m----> 1\u001b[0m sdf \u001b[38;5;241m=\u001b[39m \u001b[43mdgf\u001b[49m\n",
      "\u001b[0;31mNameError\u001b[0m: name 'dgf' is not defined"
     ]
    }
   ],
   "source": [
    "sdf = dgf"
   ]
  },
  {
   "cell_type": "code",
   "execution_count": null,
   "id": "ad0024f1-f135-4583-ba01-ee83499e11d2",
   "metadata": {},
   "outputs": [],
   "source": [
    "dim = 5\n",
    "run = 3\n",
    "dfs = []\n",
    "for problem_id in tqdm(range(1, 3)):\n",
    "    for instance_id in range(1, 2):\n",
    "        problem = get_problem(f\"bbob-f{problem_id}-{instance_id}\", n_var=dim)\n",
    "        data = run_algorithms(problem, n_runs=2)\n",
    "        pdf = pd.DataFrame(data)\n",
    "        \n",
    "        pdf['best'] = problem.ideal_point()[0]\n",
    "        pdf['problem'] = problem_id\n",
    "        pdf['instance'] = instance_id\n",
    "        pdf['dim'] = problem.n_var\n",
    "        pdf['algorithm_run'] = run\n",
    "        \n",
    "        dfs.append(pdf)"
   ]
  },
  {
   "cell_type": "code",
   "execution_count": null,
   "id": "fba5e278-5da2-450b-82a0-ae3b222367be",
   "metadata": {},
   "outputs": [],
   "source": [
    "df = pd.concat(dfs)\n",
    "df"
   ]
  },
  {
   "cell_type": "code",
   "execution_count": null,
   "id": "85ee141e-b518-4620-8508-071d057a7e07",
   "metadata": {},
   "outputs": [],
   "source": [
    "dfg = sef"
   ]
  },
  {
   "cell_type": "code",
   "execution_count": null,
   "id": "cfb624ad-82ec-49d8-ae64-4b07d08c6148",
   "metadata": {},
   "outputs": [],
   "source": [
    "dfs = []\n",
    "for problem_id in tqdm(range(1, 25)):\n",
    "    for instance_id in range(1, 6):\n",
    "        problem = get_problem(f\"bbob-f{problem_id}-{instance_id}\", n_var=5)\n",
    "        data = run_algorithms(problem, n_runs=5)\n",
    "        pdf = pd.DataFrame(data)\n",
    "        pdf['problem'] = problem_id\n",
    "        pdf['instance'] = instance_id\n",
    "        dfs.append(pdf)"
   ]
  },
  {
   "cell_type": "code",
   "execution_count": null,
   "id": "6bfb2300-9b84-42c9-8b4a-3897d37015de",
   "metadata": {},
   "outputs": [],
   "source": [
    "df = pd.concat(dfs)\n",
    "df"
   ]
  },
  {
   "cell_type": "code",
   "execution_count": null,
   "id": "98da0642-bb69-4367-8e7b-3fb57b8a43f9",
   "metadata": {},
   "outputs": [],
   "source": [
    "rdf = df[['GA', 'PSO', 'DE', 'CMAES', 'ES']].rank(axis=1)\n",
    "rdf['problem'] = df['problem']\n",
    "rdf['instance'] = df['instance']\n",
    "rdf"
   ]
  },
  {
   "cell_type": "code",
   "execution_count": null,
   "id": "28db497d-ef61-43ef-9388-64f251fc0662",
   "metadata": {},
   "outputs": [],
   "source": [
    "rdf.groupby('problem').mean()"
   ]
  },
  {
   "cell_type": "code",
   "execution_count": null,
   "id": "cfb3f6d8-7c94-4617-abc9-5a1bf5e5c315",
   "metadata": {},
   "outputs": [],
   "source": [
    "rdf.groupby(['problem', 'instance']).mean().reset_index()"
   ]
  },
  {
   "cell_type": "code",
   "execution_count": null,
   "id": "d760dfac-e2d4-43bf-ac59-0f0412c7dc12",
   "metadata": {},
   "outputs": [],
   "source": [
    "v = rdf.groupby(['problem', 'instance']).mean().reset_index()\n",
    "\n",
    "\n",
    "fig = plt.figure(figsize=(12, 14))\n",
    "# display the DataFrame using imshow\n",
    "plt.imshow(v[['GA', 'PSO', 'DE', 'CMAES', 'ES']], cmap='viridis')\n",
    "# add a colorbar to the figure\n",
    "plt.colorbar()"
   ]
  },
  {
   "cell_type": "code",
   "execution_count": null,
   "id": "392194a7-9a9b-40f6-939f-187c83f01496",
   "metadata": {},
   "outputs": [],
   "source": []
  }
 ],
 "metadata": {
  "kernelspec": {
   "display_name": "Base",
   "language": "python",
   "name": "base"
  },
  "language_info": {
   "codemirror_mode": {
    "name": "ipython",
    "version": 3
   },
   "file_extension": ".py",
   "mimetype": "text/x-python",
   "name": "python",
   "nbconvert_exporter": "python",
   "pygments_lexer": "ipython3",
   "version": "3.11.3"
  }
 },
 "nbformat": 4,
 "nbformat_minor": 5
}
