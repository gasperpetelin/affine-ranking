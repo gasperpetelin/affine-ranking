{
 "cells": [
  {
   "cell_type": "code",
   "execution_count": 4,
   "id": "0577cb90-d4c5-4a08-ae0b-97eeedadd8f9",
   "metadata": {},
   "outputs": [
    {
     "name": "stdout",
     "output_type": "stream",
     "text": [
      "=================================================\n",
      "n_gen  |  n_eval  |     f_avg     |     f_min    \n",
      "=================================================\n",
      "     1 |      100 |  7.981811E+01 |  9.1777311491\n",
      "     2 |      200 |  5.156317E+01 |  9.1777311491\n",
      "     3 |      300 |  3.623719E+01 |  9.1777311491\n",
      "     4 |      400 |  2.509764E+01 |  7.2627878707\n",
      "     5 |      500 |  1.732465E+01 |  7.2627878707\n",
      "     6 |      600 |  1.163796E+01 |  4.1794242705\n",
      "     7 |      700 |  8.2747605852 |  3.3982912165\n",
      "     8 |      800 |  6.3034536544 |  1.7097327365\n",
      "     9 |      900 |  4.4915542597 |  1.7097327365\n",
      "    10 |     1000 |  3.3482113131 |  1.2863653551\n",
      "    11 |     1100 |  2.6296449577 |  1.2863653551\n",
      "    12 |     1200 |  2.0629216776 |  0.9912607269\n",
      "    13 |     1300 |  1.6465992233 |  0.9500097071\n",
      "    14 |     1400 |  1.3842224479 |  0.7954422075\n",
      "    15 |     1500 |  1.1605422617 |  0.4620081039\n",
      "    16 |     1600 |  0.9272958619 |  0.2580678615\n",
      "    17 |     1700 |  0.7138167476 |  0.1630450046\n",
      "    18 |     1800 |  0.4977724580 |  0.1630450046\n",
      "    19 |     1900 |  0.3383077929 |  0.0975599614\n",
      "    20 |     2000 |  0.2593404843 |  0.0975599614\n"
     ]
    },
    {
     "data": {
      "text/plain": [
       "array([0.09755996])"
      ]
     },
     "execution_count": 4,
     "metadata": {},
     "output_type": "execute_result"
    }
   ],
   "source": [
    "import matplotlib.pyplot as plt\n",
    "import numpy as np\n",
    "\n",
    "from pymoo.algorithms.soo.nonconvex.ga import GA\n",
    "from pymoo.problems import get_problem\n",
    "from pymoo.core.callback import Callback\n",
    "from pymoo.optimize import minimize\n",
    "\n",
    "\n",
    "class MyCallback(Callback):\n",
    "\n",
    "    def __init__(self) -> None:\n",
    "        super().__init__()\n",
    "        self.data[\"best\"] = []\n",
    "\n",
    "    def notify(self, algorithm):\n",
    "        self.data[\"best\"].append(algorithm.pop.get(\"F\").min())\n",
    "\n",
    "\n",
    "import numpy as np\n",
    "from pymoo.core.problem import Problem\n",
    "\n",
    "\n",
    "class Sphere(Problem):\n",
    "\n",
    "    def __init__(self):\n",
    "        super().__init__(n_var=10, n_obj=1, n_ieq_constr=0, xl=-5, xu=5)\n",
    "\n",
    "    def _evaluate(self, x, out, *args, **kwargs):\n",
    "        out[\"F\"] = np.sum(x**2, axis=1)\n",
    "        \n",
    "problem = Sphere()\n",
    "\n",
    "algorithm = GA(pop_size=100)\n",
    "\n",
    "res = minimize(problem,\n",
    "               algorithm,\n",
    "               ('n_gen', 20),\n",
    "               callback=MyCallback(),\n",
    "               verbose=True)\n",
    "\n",
    "res.F\n",
    "#val = res.algorithm.callback.data[\"best\"]\n",
    "#plt.plot(np.arange(len(val)), val)\n",
    "#plt.show()"
   ]
  },
  {
   "cell_type": "code",
   "execution_count": 5,
   "id": "d6222ed5-a8aa-4196-88c6-3f573f9e9d31",
   "metadata": {},
   "outputs": [],
   "source": [
    "from utils import * "
   ]
  },
  {
   "cell_type": "code",
   "execution_count": 6,
   "id": "d367bea7-2aaa-46d4-9436-37da073fa5d2",
   "metadata": {},
   "outputs": [],
   "source": [
    "ela = load_ela()"
   ]
  },
  {
   "cell_type": "code",
   "execution_count": 7,
   "id": "7deed793-e704-4609-a21c-9e701340358c",
   "metadata": {},
   "outputs": [
    {
     "data": {
      "text/plain": [
       "Index(['problem1', 'problem2', 'instance1', 'instance2', 'alpha', 'dim',\n",
       "       'algorithm_run', 'disp.ratio_mean_02', 'disp.ratio_mean_05',\n",
       "       'disp.ratio_mean_10', 'disp.ratio_mean_25', 'disp.ratio_median_02',\n",
       "       'disp.ratio_median_05', 'disp.ratio_median_10', 'disp.ratio_median_25',\n",
       "       'disp.diff_mean_02', 'disp.diff_mean_05', 'disp.diff_mean_10',\n",
       "       'disp.diff_mean_25', 'disp.diff_median_02', 'disp.diff_median_05',\n",
       "       'disp.diff_median_10', 'disp.diff_median_25', 'disp.costs_runtime',\n",
       "       'ela_distr.skewness', 'ela_distr.kurtosis', 'ela_distr.number_of_peaks',\n",
       "       'ela_distr.costs_runtime', 'ela_level.mmce_lda_10',\n",
       "       'ela_level.mmce_qda_10', 'ela_level.lda_qda_10',\n",
       "       'ela_level.mmce_lda_25', 'ela_level.mmce_qda_25',\n",
       "       'ela_level.lda_qda_25', 'ela_level.mmce_lda_50',\n",
       "       'ela_level.mmce_qda_50', 'ela_level.lda_qda_50',\n",
       "       'ela_level.costs_runtime', 'ela_meta.lin_simple.adj_r2',\n",
       "       'ela_meta.lin_simple.intercept', 'ela_meta.lin_simple.coef.min',\n",
       "       'ela_meta.lin_simple.coef.max', 'ela_meta.lin_simple.coef.max_by_min',\n",
       "       'ela_meta.lin_w_interact.adj_r2', 'ela_meta.quad_simple.adj_r2',\n",
       "       'ela_meta.quad_simple.cond', 'ela_meta.quad_w_interact.adj_r2',\n",
       "       'ela_meta.costs_runtime', 'ic.h_max', 'ic.eps_s', 'ic.eps_max',\n",
       "       'ic.eps_ratio', 'ic.m0', 'ic.costs_runtime', 'nbc.nn_nb.sd_ratio',\n",
       "       'nbc.nn_nb.mean_ratio', 'nbc.nn_nb.cor', 'nbc.dist_ratio.coeff_var',\n",
       "       'nbc.nb_fitness.cor', 'nbc.costs_runtime', 'pca.expl_var.cov_x',\n",
       "       'pca.expl_var.cor_x', 'pca.expl_var.cov_init', 'pca.expl_var.cor_init',\n",
       "       'pca.expl_var_PC1.cov_x', 'pca.expl_var_PC1.cor_x',\n",
       "       'pca.expl_var_PC1.cov_init', 'pca.expl_var_PC1.cor_init',\n",
       "       'pca.costs_runtime'],\n",
       "      dtype='object')"
      ]
     },
     "execution_count": 7,
     "metadata": {},
     "output_type": "execute_result"
    }
   ],
   "source": [
    "ela.columns"
   ]
  },
  {
   "cell_type": "code",
   "execution_count": 8,
   "id": "38209aef-436c-4808-bdb6-955cf7a43df4",
   "metadata": {},
   "outputs": [
    {
     "data": {
      "text/plain": [
       "62"
      ]
     },
     "execution_count": 8,
     "metadata": {},
     "output_type": "execute_result"
    },
    {
     "name": "stdout",
     "output_type": "stream",
     "text": [
      "No columns to parse from file\n",
      "No columns to parse from file\n",
      "No columns to parse from file\n"
     ]
    }
   ],
   "source": [
    "len(['disp.ratio_mean_02', 'disp.ratio_mean_05',\n",
    "       'disp.ratio_mean_10', 'disp.ratio_mean_25', 'disp.ratio_median_02',\n",
    "       'disp.ratio_median_05', 'disp.ratio_median_10', 'disp.ratio_median_25',\n",
    "       'disp.diff_mean_02', 'disp.diff_mean_05', 'disp.diff_mean_10',\n",
    "       'disp.diff_mean_25', 'disp.diff_median_02', 'disp.diff_median_05',\n",
    "       'disp.diff_median_10', 'disp.diff_median_25', 'disp.costs_runtime',\n",
    "       'ela_distr.skewness', 'ela_distr.kurtosis', 'ela_distr.number_of_peaks',\n",
    "       'ela_distr.costs_runtime', 'ela_level.mmce_lda_10',\n",
    "       'ela_level.mmce_qda_10', 'ela_level.lda_qda_10',\n",
    "       'ela_level.mmce_lda_25', 'ela_level.mmce_qda_25',\n",
    "       'ela_level.lda_qda_25', 'ela_level.mmce_lda_50',\n",
    "       'ela_level.mmce_qda_50', 'ela_level.lda_qda_50',\n",
    "       'ela_level.costs_runtime', 'ela_meta.lin_simple.adj_r2',\n",
    "       'ela_meta.lin_simple.intercept', 'ela_meta.lin_simple.coef.min',\n",
    "       'ela_meta.lin_simple.coef.max', 'ela_meta.lin_simple.coef.max_by_min',\n",
    "       'ela_meta.lin_w_interact.adj_r2', 'ela_meta.quad_simple.adj_r2',\n",
    "       'ela_meta.quad_simple.cond', 'ela_meta.quad_w_interact.adj_r2',\n",
    "       'ela_meta.costs_runtime', 'ic.h_max', 'ic.eps_s', 'ic.eps_max',\n",
    "       'ic.eps_ratio', 'ic.m0', 'ic.costs_runtime', 'nbc.nn_nb.sd_ratio',\n",
    "       'nbc.nn_nb.mean_ratio', 'nbc.nn_nb.cor', 'nbc.dist_ratio.coeff_var',\n",
    "       'nbc.nb_fitness.cor', 'nbc.costs_runtime', 'pca.expl_var.cov_x',\n",
    "       'pca.expl_var.cor_x', 'pca.expl_var.cov_init', 'pca.expl_var.cor_init',\n",
    "       'pca.expl_var_PC1.cov_x', 'pca.expl_var_PC1.cor_x',\n",
    "       'pca.expl_var_PC1.cov_init', 'pca.expl_var_PC1.cor_init',\n",
    "       'pca.costs_runtime'])"
   ]
  }
 ],
 "metadata": {
  "kernelspec": {
   "display_name": "Base",
   "language": "python",
   "name": "base"
  },
  "language_info": {
   "codemirror_mode": {
    "name": "ipython",
    "version": 3
   },
   "file_extension": ".py",
   "mimetype": "text/x-python",
   "name": "python",
   "nbconvert_exporter": "python",
   "pygments_lexer": "ipython3",
   "version": "3.10.13"
  }
 },
 "nbformat": 4,
 "nbformat_minor": 5
}
