{
 "cells": [
  {
   "cell_type": "code",
   "execution_count": 4,
   "id": "0577cb90-d4c5-4a08-ae0b-97eeedadd8f9",
   "metadata": {},
   "outputs": [
    {
     "name": "stdout",
     "output_type": "stream",
     "text": [
      "=================================================\n",
      "n_gen  |  n_eval  |     f_avg     |     f_min    \n",
      "=================================================\n",
      "     1 |      100 |  7.981811E+01 |  9.1777311491\n",
      "     2 |      200 |  5.156317E+01 |  9.1777311491\n",
      "     3 |      300 |  3.623719E+01 |  9.1777311491\n",
      "     4 |      400 |  2.509764E+01 |  7.2627878707\n",
      "     5 |      500 |  1.732465E+01 |  7.2627878707\n",
      "     6 |      600 |  1.163796E+01 |  4.1794242705\n",
      "     7 |      700 |  8.2747605852 |  3.3982912165\n",
      "     8 |      800 |  6.3034536544 |  1.7097327365\n",
      "     9 |      900 |  4.4915542597 |  1.7097327365\n",
      "    10 |     1000 |  3.3482113131 |  1.2863653551\n",
      "    11 |     1100 |  2.6296449577 |  1.2863653551\n",
      "    12 |     1200 |  2.0629216776 |  0.9912607269\n",
      "    13 |     1300 |  1.6465992233 |  0.9500097071\n",
      "    14 |     1400 |  1.3842224479 |  0.7954422075\n",
      "    15 |     1500 |  1.1605422617 |  0.4620081039\n",
      "    16 |     1600 |  0.9272958619 |  0.2580678615\n",
      "    17 |     1700 |  0.7138167476 |  0.1630450046\n",
      "    18 |     1800 |  0.4977724580 |  0.1630450046\n",
      "    19 |     1900 |  0.3383077929 |  0.0975599614\n",
      "    20 |     2000 |  0.2593404843 |  0.0975599614\n"
     ]
    },
    {
     "data": {
      "text/plain": [
       "array([0.09755996])"
      ]
     },
     "execution_count": 4,
     "metadata": {},
     "output_type": "execute_result"
    }
   ],
   "source": [
    "import matplotlib.pyplot as plt\n",
    "import numpy as np\n",
    "\n",
    "from pymoo.algorithms.soo.nonconvex.ga import GA\n",
    "from pymoo.problems import get_problem\n",
    "from pymoo.core.callback import Callback\n",
    "from pymoo.optimize import minimize\n",
    "\n",
    "\n",
    "class MyCallback(Callback):\n",
    "\n",
    "    def __init__(self) -> None:\n",
    "        super().__init__()\n",
    "        self.data[\"best\"] = []\n",
    "\n",
    "    def notify(self, algorithm):\n",
    "        self.data[\"best\"].append(algorithm.pop.get(\"F\").min())\n",
    "\n",
    "\n",
    "import numpy as np\n",
    "from pymoo.core.problem import Problem\n",
    "\n",
    "\n",
    "class Sphere(Problem):\n",
    "\n",
    "    def __init__(self):\n",
    "        super().__init__(n_var=10, n_obj=1, n_ieq_constr=0, xl=-5, xu=5)\n",
    "\n",
    "    def _evaluate(self, x, out, *args, **kwargs):\n",
    "        out[\"F\"] = np.sum(x**2, axis=1)\n",
    "        \n",
    "problem = Sphere()\n",
    "\n",
    "algorithm = GA(pop_size=100)\n",
    "\n",
    "res = minimize(problem,\n",
    "               algorithm,\n",
    "               ('n_gen', 20),\n",
    "               callback=MyCallback(),\n",
    "               verbose=True)\n",
    "\n",
    "res.F\n",
    "#val = res.algorithm.callback.data[\"best\"]\n",
    "#plt.plot(np.arange(len(val)), val)\n",
    "#plt.show()"
   ]
  }
 ],
 "metadata": {
  "kernelspec": {
   "display_name": "Base",
   "language": "python",
   "name": "base"
  },
  "language_info": {
   "codemirror_mode": {
    "name": "ipython",
    "version": 3
   },
   "file_extension": ".py",
   "mimetype": "text/x-python",
   "name": "python",
   "nbconvert_exporter": "python",
   "pygments_lexer": "ipython3",
   "version": "3.11.3"
  }
 },
 "nbformat": 4,
 "nbformat_minor": 5
}
